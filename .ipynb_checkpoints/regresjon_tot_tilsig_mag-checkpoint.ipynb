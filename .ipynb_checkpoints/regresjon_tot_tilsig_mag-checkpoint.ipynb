{
 "cells": [
  {
   "cell_type": "markdown",
   "metadata": {},
   "source": [
    "# REGIONAL REGRASJONSANALYSE AV TOTALT TILSIG/MAGASINVOLUM\n",
    "## Tipper/predikerer foregående ukes verdi\n",
    "Dette scriptet utfører en estimering det totale tilsiget (ukjent+kjent) i hver av regionene: NO1-NO5 og SE1-SE4. Tippingen på tilsig og/eller magasin er basert på regresjon fra en mengde kjente serier for bla. tilsig og magasinvolum. Tippingen skrives til seriene regest% (søk i tidsserier). \n",
    "\n",
    "Beskrivelse av metoden:\n",
    "1. Leser inn kjente serier for tilsig og/eller magasinvolum fra SMG, og henter ukesverdiene. Dette gjøres i egen celle slik at man kan kun trenger å lese inn en gang siden dette tar noen minutter.\n",
    "2. Leser inn fasiten, og regner så ut korrelasjonen (R2) mellom faiten og inputseriene. Et antall serier som skal tas med videre velges så utifra \"ant_kandidater\" med høyeste korrelasjon med fasiten.\n",
    "3. Kjøre regresjon så langt tilbake som vi har data (2015.06.08), og luker ut den høyeste p-verdien. Dette kjøres om og om igjen helt til den høyeste p-verdien er laveren enn \"max_p\".\n",
    "4. Til slutt kjøres en regresjon på en kortere periode (reg_period) med utvalget av serier som har blitt gjort i steg 2 og 3. Resultatet fra denne regresjonen blir modellen som brukes til å estimere/tippe neste ukes verdi.\n",
    "5. Scriptet gjør 10 slike tippinger, 10 uker tilbake i tid, for hver kjøring. \n",
    "\n",
    "Tuning av regresjonen utføres ved å spesifisere ant_kandidater, max_p og reg_period, som når man er fornøyd kan oppdateres i default_input_variables. For at dette skal bli brukt i autojobben, må man ta kontakt med Sarah, slik at dette kan legges inn i PyCharm scriptet som utfører autojobben (tirsdag 06:00 og 11:00).\n",
    "\n",
    "Scriptet er laget av Sarah Gjermo, på bestilling fra Svein Farstad. Sist endret 06.05.2019."
   ]
  },
  {
   "cell_type": "markdown",
   "metadata": {},
   "source": [
    "## INNLESNING OG KLARGJØRING\n",
    "Kjøres kun en gang!"
   ]
  },
  {
   "cell_type": "code",
   "execution_count": null,
   "metadata": {
    "scrolled": false
   },
   "outputs": [
    {
     "name": "stdout",
     "output_type": "stream",
     "text": [
      "---------------------------------------------------------------\n",
      "                        TILSIG                                 \n",
      "---------------------------------------------------------------\n",
      "Forventet innlesingstid er +/-180 sekunder.\n",
      "Leser nå NO1..\n",
      "Leser nå NO2..\n",
      "Leser nå NO3..\n",
      "Leser nå NO4..\n",
      "Leser nå NO5..\n",
      "Leser nå SE1..\n",
      "Leser nå SE2..\n",
      "Leser nå SE3..\n",
      "Leser nå SE4..\n",
      "Leser nå Tilsig kjente pr prisområde..\n",
      "Leser nå Tilsig ukjente pr prisområde..\n",
      "Leser nå BesteEstimat, Q_obse, Q_NFB..\n",
      "Leser nå Tilsig basert på magasinendring pluss Kpp-prod, Del1..\n",
      "Leser nå Del2..\n",
      "Leser nå Del3..\n",
      "Leser nå Del4..\n",
      "Leser nå Del5..\n",
      "Leser nå Tilsiget pr kraftverksområde: Del1..\n",
      "Leser nå Del2..\n",
      "Leser nå Del3..\n",
      "Leser nå Del4..\n",
      "Leser nå Del5..\n",
      "Leser nå Del6..\n",
      "\n",
      "Innlesning for tilsig tok totalt 272 sekunder. \n",
      "\n",
      "Mandag det tippes for (siste mandag ved tuning):  2019.06.24\n",
      "\n",
      "-------------------Feil i kjente tilsig verdier--------------------\n",
      "-22.459999999999997 /Skel-Slagnas.Bastus-D1050A3R-0108SV..SVF\n",
      "-2.6237513163683097 /Haka-Hakavik.......-U9100S3BT0104\n",
      "-0.23742024706340378 /Laga-Skeen.........-U9100S3BT0104\n",
      "-0.050652113394095574 /Rhei-CwmRheidoldam.-U9100S3BT0104\n",
      "\n",
      "\n",
      "\n",
      "---------------------------------------------------------------\n",
      "                        MAGASIN                                \n",
      "---------------------------------------------------------------\n",
      "Forventet innlesingstid er +/-6 sekunder.\n",
      "Leser nå NO1..\n",
      "Leser nå NO2..\n",
      "Leser nå NO3..\n",
      "Leser nå NO4..\n",
      "Leser nå NO5..\n",
      "Leser nå Sverige..\n",
      "Leser nå KrvOmr..\n"
     ]
    }
   ],
   "source": [
    "from regression_modules import *\n",
    "\n",
    "auto_input = {}\n",
    "auto_input['tilsig'] = read_and_setup('tilsig')\n",
    "auto_input['magasin'] = read_and_setup('magasin')"
   ]
  },
  {
   "cell_type": "markdown",
   "metadata": {},
   "source": [
    "## KJØRING\n",
    "Her kan du velge å kjøre regresjonen for alle regioner, og for magasin og tilsig i ett f.eks, slik:\n",
    "\n",
    "    var = ['Magasin','Tilsig']\n",
    "    reg = ['NO1','NO2','NO3','NO4','NO5','SE1','SE2','SE3','SE4']\n",
    "    for variable in var:\n",
    "        for region in reg:\n",
    "            show_result_input = make_estimate_and_write(variable, region, auto_input[variable])\n",
    "            show_result(show_result_input)"
   ]
  },
  {
   "cell_type": "code",
   "execution_count": null,
   "metadata": {
    "scrolled": false
   },
   "outputs": [],
   "source": [
    "var = ['magasin','tilsig']\n",
    "reg = ['NO1','NO2','NO3','NO4','NO5','SE1','SE2','SE3','SE4']\n",
    "for region in reg:\n",
    "    for variable in var:\n",
    "        show_result_input = make_estimate_and_write(variable, region, auto_input[variable], backup=True)\n",
    "        show_result_jupyter(show_result_input)"
   ]
  },
  {
   "cell_type": "code",
   "execution_count": null,
   "metadata": {},
   "outputs": [],
   "source": []
  },
  {
   "cell_type": "code",
   "execution_count": null,
   "metadata": {},
   "outputs": [],
   "source": []
  }
 ],
 "metadata": {
  "kernelspec": {
   "display_name": "Stable",
   "language": "python",
   "name": "stable"
  },
  "language_info": {
   "codemirror_mode": {
    "name": "ipython",
    "version": 3
   },
   "file_extension": ".py",
   "mimetype": "text/x-python",
   "name": "python",
   "nbconvert_exporter": "python",
   "pygments_lexer": "ipython3",
   "version": "3.6.7"
  }
 },
 "nbformat": 4,
 "nbformat_minor": 2
}
